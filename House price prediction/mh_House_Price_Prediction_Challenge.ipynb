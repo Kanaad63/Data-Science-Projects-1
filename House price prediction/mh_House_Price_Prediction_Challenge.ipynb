{
  "nbformat": 4,
  "nbformat_minor": 0,
  "metadata": {
    "colab": {
      "name": "mh House Price Prediction Challenge.ipynb",
      "provenance": [],
      "collapsed_sections": [
        "QzRwdsrZr6SQ",
        "8VmtCgcUr3jI"
      ]
    },
    "kernelspec": {
      "name": "python3",
      "display_name": "Python 3"
    },
    "accelerator": "GPU"
  },
  "cells": [
    {
      "cell_type": "code",
      "metadata": {
        "id": "tV76-oKkyEC7",
        "outputId": "2e7ea939-06f5-49ad-f6b4-501584337a14",
        "colab": {
          "base_uri": "https://localhost:8080/",
          "height": 201
        }
      },
      "source": [
        "!wget https://machinehack-be.s3.amazonaws.com/house_price_prediction_beat_the_benchmark/Participants_Data_HPP.zip"
      ],
      "execution_count": null,
      "outputs": [
        {
          "output_type": "stream",
          "text": [
            "--2020-10-25 17:48:46--  https://machinehack-be.s3.amazonaws.com/house_price_prediction_beat_the_benchmark/Participants_Data_HPP.zip\n",
            "Resolving machinehack-be.s3.amazonaws.com (machinehack-be.s3.amazonaws.com)... 52.219.66.36\n",
            "Connecting to machinehack-be.s3.amazonaws.com (machinehack-be.s3.amazonaws.com)|52.219.66.36|:443... connected.\n",
            "HTTP request sent, awaiting response... 200 OK\n",
            "Length: 2179731 (2.1M) [application/zip]\n",
            "Saving to: ‘Participants_Data_HPP.zip’\n",
            "\n",
            "Participants_Data_H 100%[===================>]   2.08M  1.27MB/s    in 1.6s    \n",
            "\n",
            "2020-10-25 17:48:49 (1.27 MB/s) - ‘Participants_Data_HPP.zip’ saved [2179731/2179731]\n",
            "\n"
          ],
          "name": "stdout"
        }
      ]
    },
    {
      "cell_type": "code",
      "metadata": {
        "id": "DLjOnMk2yHHq",
        "outputId": "20ca137e-7d3f-42e7-90b3-636e4e7b0cad",
        "colab": {
          "base_uri": "https://localhost:8080/",
          "height": 151
        }
      },
      "source": [
        "!unzip Participants_Data_HPP.zip"
      ],
      "execution_count": null,
      "outputs": [
        {
          "output_type": "stream",
          "text": [
            "Archive:  Participants_Data_HPP.zip\n",
            "   creating: Participants_Data_HPP/\n",
            "  inflating: Participants_Data_HPP/Test.csv  \n",
            "  inflating: __MACOSX/Participants_Data_HPP/._Test.csv  \n",
            "  inflating: Participants_Data_HPP/Train.csv  \n",
            "  inflating: __MACOSX/Participants_Data_HPP/._Train.csv  \n",
            "  inflating: Participants_Data_HPP/sample_submission.csv  \n",
            "  inflating: __MACOSX/Participants_Data_HPP/._sample_submission.csv  \n"
          ],
          "name": "stdout"
        }
      ]
    },
    {
      "cell_type": "code",
      "metadata": {
        "id": "P1ze546YkkBj"
      },
      "source": [
        "import pandas as pd\n",
        "import numpy as np\n",
        "import matplotlib.pyplot as plt\n",
        "%matplotlib inline"
      ],
      "execution_count": null,
      "outputs": []
    },
    {
      "cell_type": "code",
      "metadata": {
        "id": "D-PbaLn1k0yZ"
      },
      "source": [
        "train=pd.read_csv('Participants_Data_HPP/Train.csv')\n",
        "test=pd.read_csv('Participants_Data_HPP/Test.csv')"
      ],
      "execution_count": null,
      "outputs": []
    },
    {
      "cell_type": "code",
      "metadata": {
        "id": "YxZHkwwllWnN",
        "outputId": "5121c711-01fd-492a-c262-593acdad6117",
        "colab": {
          "base_uri": "https://localhost:8080/",
          "height": 190
        }
      },
      "source": [
        "train.head()"
      ],
      "execution_count": null,
      "outputs": [
        {
          "output_type": "execute_result",
          "data": {
            "text/html": [
              "<div>\n",
              "<style scoped>\n",
              "    .dataframe tbody tr th:only-of-type {\n",
              "        vertical-align: middle;\n",
              "    }\n",
              "\n",
              "    .dataframe tbody tr th {\n",
              "        vertical-align: top;\n",
              "    }\n",
              "\n",
              "    .dataframe thead th {\n",
              "        text-align: right;\n",
              "    }\n",
              "</style>\n",
              "<table border=\"1\" class=\"dataframe\">\n",
              "  <thead>\n",
              "    <tr style=\"text-align: right;\">\n",
              "      <th></th>\n",
              "      <th>POSTED_BY</th>\n",
              "      <th>UNDER_CONSTRUCTION</th>\n",
              "      <th>RERA</th>\n",
              "      <th>BHK_NO.</th>\n",
              "      <th>BHK_OR_RK</th>\n",
              "      <th>SQUARE_FT</th>\n",
              "      <th>READY_TO_MOVE</th>\n",
              "      <th>RESALE</th>\n",
              "      <th>ADDRESS</th>\n",
              "      <th>LONGITUDE</th>\n",
              "      <th>LATITUDE</th>\n",
              "      <th>TARGET(PRICE_IN_LACS)</th>\n",
              "    </tr>\n",
              "  </thead>\n",
              "  <tbody>\n",
              "    <tr>\n",
              "      <th>0</th>\n",
              "      <td>Owner</td>\n",
              "      <td>0</td>\n",
              "      <td>0</td>\n",
              "      <td>2</td>\n",
              "      <td>BHK</td>\n",
              "      <td>1300.236407</td>\n",
              "      <td>1</td>\n",
              "      <td>1</td>\n",
              "      <td>Ksfc Layout,Bangalore</td>\n",
              "      <td>12.969910</td>\n",
              "      <td>77.597960</td>\n",
              "      <td>55.0</td>\n",
              "    </tr>\n",
              "    <tr>\n",
              "      <th>1</th>\n",
              "      <td>Dealer</td>\n",
              "      <td>0</td>\n",
              "      <td>0</td>\n",
              "      <td>2</td>\n",
              "      <td>BHK</td>\n",
              "      <td>1275.000000</td>\n",
              "      <td>1</td>\n",
              "      <td>1</td>\n",
              "      <td>Vishweshwara Nagar,Mysore</td>\n",
              "      <td>12.274538</td>\n",
              "      <td>76.644605</td>\n",
              "      <td>51.0</td>\n",
              "    </tr>\n",
              "    <tr>\n",
              "      <th>2</th>\n",
              "      <td>Owner</td>\n",
              "      <td>0</td>\n",
              "      <td>0</td>\n",
              "      <td>2</td>\n",
              "      <td>BHK</td>\n",
              "      <td>933.159722</td>\n",
              "      <td>1</td>\n",
              "      <td>1</td>\n",
              "      <td>Jigani,Bangalore</td>\n",
              "      <td>12.778033</td>\n",
              "      <td>77.632191</td>\n",
              "      <td>43.0</td>\n",
              "    </tr>\n",
              "    <tr>\n",
              "      <th>3</th>\n",
              "      <td>Owner</td>\n",
              "      <td>0</td>\n",
              "      <td>1</td>\n",
              "      <td>2</td>\n",
              "      <td>BHK</td>\n",
              "      <td>929.921143</td>\n",
              "      <td>1</td>\n",
              "      <td>1</td>\n",
              "      <td>Sector-1 Vaishali,Ghaziabad</td>\n",
              "      <td>28.642300</td>\n",
              "      <td>77.344500</td>\n",
              "      <td>62.5</td>\n",
              "    </tr>\n",
              "    <tr>\n",
              "      <th>4</th>\n",
              "      <td>Dealer</td>\n",
              "      <td>1</td>\n",
              "      <td>0</td>\n",
              "      <td>2</td>\n",
              "      <td>BHK</td>\n",
              "      <td>999.009247</td>\n",
              "      <td>0</td>\n",
              "      <td>1</td>\n",
              "      <td>New Town,Kolkata</td>\n",
              "      <td>22.592200</td>\n",
              "      <td>88.484911</td>\n",
              "      <td>60.5</td>\n",
              "    </tr>\n",
              "  </tbody>\n",
              "</table>\n",
              "</div>"
            ],
            "text/plain": [
              "  POSTED_BY  UNDER_CONSTRUCTION  ...   LATITUDE  TARGET(PRICE_IN_LACS)\n",
              "0     Owner                   0  ...  77.597960                   55.0\n",
              "1    Dealer                   0  ...  76.644605                   51.0\n",
              "2     Owner                   0  ...  77.632191                   43.0\n",
              "3     Owner                   0  ...  77.344500                   62.5\n",
              "4    Dealer                   1  ...  88.484911                   60.5\n",
              "\n",
              "[5 rows x 12 columns]"
            ]
          },
          "metadata": {
            "tags": []
          },
          "execution_count": 35
        }
      ]
    },
    {
      "cell_type": "code",
      "metadata": {
        "id": "8InmbuWsyPwM",
        "outputId": "9ff84d0f-4402-4303-e0d8-2495d3829b2f",
        "colab": {
          "base_uri": "https://localhost:8080/",
          "height": 621
        }
      },
      "source": [
        "train.isnull().sum(),test.isnull().sum(),train.shape,test.shape,train.dtypes"
      ],
      "execution_count": null,
      "outputs": [
        {
          "output_type": "execute_result",
          "data": {
            "text/plain": [
              "(POSTED_BY                0\n",
              " UNDER_CONSTRUCTION       0\n",
              " RERA                     0\n",
              " BHK_NO.                  0\n",
              " BHK_OR_RK                0\n",
              " SQUARE_FT                0\n",
              " READY_TO_MOVE            0\n",
              " RESALE                   0\n",
              " ADDRESS                  0\n",
              " LONGITUDE                0\n",
              " LATITUDE                 0\n",
              " TARGET(PRICE_IN_LACS)    0\n",
              " dtype: int64, POSTED_BY             0\n",
              " UNDER_CONSTRUCTION    0\n",
              " RERA                  0\n",
              " BHK_NO.               0\n",
              " BHK_OR_RK             0\n",
              " SQUARE_FT             0\n",
              " READY_TO_MOVE         0\n",
              " RESALE                0\n",
              " ADDRESS               0\n",
              " LONGITUDE             0\n",
              " LATITUDE              0\n",
              " dtype: int64, (29451, 12), (68720, 11), POSTED_BY                 object\n",
              " UNDER_CONSTRUCTION         int64\n",
              " RERA                       int64\n",
              " BHK_NO.                    int64\n",
              " BHK_OR_RK                 object\n",
              " SQUARE_FT                float64\n",
              " READY_TO_MOVE              int64\n",
              " RESALE                     int64\n",
              " ADDRESS                   object\n",
              " LONGITUDE                float64\n",
              " LATITUDE                 float64\n",
              " TARGET(PRICE_IN_LACS)    float64\n",
              " dtype: object)"
            ]
          },
          "metadata": {
            "tags": []
          },
          "execution_count": 36
        }
      ]
    },
    {
      "cell_type": "code",
      "metadata": {
        "id": "_iHYlx5-ywpe"
      },
      "source": [
        "df=train.append(test,ignore_index=True)"
      ],
      "execution_count": null,
      "outputs": []
    },
    {
      "cell_type": "code",
      "metadata": {
        "id": "6JRwth34y6N3",
        "outputId": "fe288221-f43f-4839-b627-4a801a4aad60",
        "colab": {
          "base_uri": "https://localhost:8080/",
          "height": 235
        }
      },
      "source": [
        "df.nunique()"
      ],
      "execution_count": null,
      "outputs": [
        {
          "output_type": "execute_result",
          "data": {
            "text/plain": [
              "POSTED_BY                    3\n",
              "UNDER_CONSTRUCTION           2\n",
              "RERA                         2\n",
              "BHK_NO.                     19\n",
              "BHK_OR_RK                    2\n",
              "SQUARE_FT                48733\n",
              "READY_TO_MOVE                2\n",
              "RESALE                       2\n",
              "ADDRESS                  13322\n",
              "LONGITUDE                 6801\n",
              "LATITUDE                  6803\n",
              "TARGET(PRICE_IN_LACS)     1172\n",
              "dtype: int64"
            ]
          },
          "metadata": {
            "tags": []
          },
          "execution_count": 38
        }
      ]
    },
    {
      "cell_type": "code",
      "metadata": {
        "id": "1NKmvYQ6y9Gs"
      },
      "source": [
        "#df = pd.get_dummies(df, columns=['POSTED_BY','BHK_OR_RK'])"
      ],
      "execution_count": null,
      "outputs": []
    },
    {
      "cell_type": "code",
      "metadata": {
        "id": "naIRakDH1EHY"
      },
      "source": [
        "df['ad_1'] = df['ADDRESS'].str.split(',').str[0]\n",
        "df['ad_2'] = df['ADDRESS'].str.split(',').str[1]\n",
        "df['ad_2'] = df['ad_2'].fillna('missingADDRESS')"
      ],
      "execution_count": null,
      "outputs": []
    },
    {
      "cell_type": "code",
      "metadata": {
        "id": "OvULwOlnPKLY",
        "outputId": "76688a49-1ded-4203-9f54-36f77af5d1ae",
        "colab": {
          "base_uri": "https://localhost:8080/",
          "height": 229
        }
      },
      "source": [
        "# back\n",
        "x=[]\n",
        "m=list(df['ad_2'])\n",
        "for i in df['ad_2']:\n",
        "  k=m.count(i)\n",
        "  if k<3:\n",
        "    x.append(i)\n",
        "  else:\n",
        "    pass"
      ],
      "execution_count": null,
      "outputs": [
        {
          "output_type": "error",
          "ename": "KeyboardInterrupt",
          "evalue": "ignored",
          "traceback": [
            "\u001b[0;31m---------------------------------------------------------------------------\u001b[0m",
            "\u001b[0;31mKeyboardInterrupt\u001b[0m                         Traceback (most recent call last)",
            "\u001b[0;32m<ipython-input-10-e2cb3a44174b>\u001b[0m in \u001b[0;36m<module>\u001b[0;34m()\u001b[0m\n\u001b[1;32m      3\u001b[0m \u001b[0mm\u001b[0m\u001b[0;34m=\u001b[0m\u001b[0mlist\u001b[0m\u001b[0;34m(\u001b[0m\u001b[0mdf\u001b[0m\u001b[0;34m[\u001b[0m\u001b[0;34m'ad_2'\u001b[0m\u001b[0;34m]\u001b[0m\u001b[0;34m)\u001b[0m\u001b[0;34m\u001b[0m\u001b[0;34m\u001b[0m\u001b[0m\n\u001b[1;32m      4\u001b[0m \u001b[0;32mfor\u001b[0m \u001b[0mi\u001b[0m \u001b[0;32min\u001b[0m \u001b[0mdf\u001b[0m\u001b[0;34m[\u001b[0m\u001b[0;34m'ad_2'\u001b[0m\u001b[0;34m]\u001b[0m\u001b[0;34m:\u001b[0m\u001b[0;34m\u001b[0m\u001b[0;34m\u001b[0m\u001b[0m\n\u001b[0;32m----> 5\u001b[0;31m   \u001b[0mk\u001b[0m\u001b[0;34m=\u001b[0m\u001b[0mm\u001b[0m\u001b[0;34m.\u001b[0m\u001b[0mcount\u001b[0m\u001b[0;34m(\u001b[0m\u001b[0mi\u001b[0m\u001b[0;34m)\u001b[0m\u001b[0;34m\u001b[0m\u001b[0;34m\u001b[0m\u001b[0m\n\u001b[0m\u001b[1;32m      6\u001b[0m   \u001b[0;32mif\u001b[0m \u001b[0mk\u001b[0m\u001b[0;34m<\u001b[0m\u001b[0;36m3\u001b[0m\u001b[0;34m:\u001b[0m\u001b[0;34m\u001b[0m\u001b[0;34m\u001b[0m\u001b[0m\n\u001b[1;32m      7\u001b[0m     \u001b[0mx\u001b[0m\u001b[0;34m.\u001b[0m\u001b[0mappend\u001b[0m\u001b[0;34m(\u001b[0m\u001b[0mi\u001b[0m\u001b[0;34m)\u001b[0m\u001b[0;34m\u001b[0m\u001b[0;34m\u001b[0m\u001b[0m\n",
            "\u001b[0;31mKeyboardInterrupt\u001b[0m: "
          ]
        }
      ]
    },
    {
      "cell_type": "code",
      "metadata": {
        "id": "e0UaEKSBNnln",
        "outputId": "a5687668-c7fc-4d0d-e513-646b493e3f3d",
        "colab": {
          "base_uri": "https://localhost:8080/",
          "height": 33
        }
      },
      "source": [
        "df['ad_2'].shape"
      ],
      "execution_count": null,
      "outputs": [
        {
          "output_type": "execute_result",
          "data": {
            "text/plain": [
              "(98171,)"
            ]
          },
          "metadata": {
            "tags": []
          },
          "execution_count": 11
        }
      ]
    },
    {
      "cell_type": "code",
      "metadata": {
        "id": "P0Xvtn1e-w0K"
      },
      "source": [
        "i=list(range(0, 98171))\n",
        "df['title']=i"
      ],
      "execution_count": null,
      "outputs": []
    },
    {
      "cell_type": "code",
      "metadata": {
        "id": "HUuhPxqq2_Cf",
        "outputId": "9d767414-0e9f-424f-e605-e75a4bb3c88b",
        "colab": {
          "base_uri": "https://localhost:8080/",
          "height": 318
        }
      },
      "source": [
        "import re\n",
        "go_tags=df.copy()\n",
        "temp=go_tags['ad_2'].str.split(',')\n",
        "\n",
        "go_tags=go_tags.reindex(go_tags.index.repeat(temp.apply(len)))\n",
        "go_tags['ad_2_new'] = np.hstack(temp)\n",
        "go_tags=go_tags[['title','ad_2_new']]\n",
        "go_tags=pd.crosstab(go_tags.title,go_tags.ad_2_new)\n",
        "go_tags.head()"
      ],
      "execution_count": null,
      "outputs": [
        {
          "output_type": "execute_result",
          "data": {
            "text/html": [
              "<div>\n",
              "<style scoped>\n",
              "    .dataframe tbody tr th:only-of-type {\n",
              "        vertical-align: middle;\n",
              "    }\n",
              "\n",
              "    .dataframe tbody tr th {\n",
              "        vertical-align: top;\n",
              "    }\n",
              "\n",
              "    .dataframe thead th {\n",
              "        text-align: right;\n",
              "    }\n",
              "</style>\n",
              "<table border=\"1\" class=\"dataframe\">\n",
              "  <thead>\n",
              "    <tr style=\"text-align: right;\">\n",
              "      <th>ad_2_new</th>\n",
              "      <th></th>\n",
              "      <th>44 the cross</th>\n",
              "      <th>5 th Phase</th>\n",
              "      <th>52</th>\n",
              "      <th>66 Feet Road</th>\n",
              "      <th>A C Market</th>\n",
              "      <th>ASANSOL</th>\n",
              "      <th>Aakashwani</th>\n",
              "      <th>Achara</th>\n",
              "      <th>Adajan</th>\n",
              "      <th>Adambakkam</th>\n",
              "      <th>Adipur. 370205</th>\n",
              "      <th>Agra</th>\n",
              "      <th>Alapakkam</th>\n",
              "      <th>Aligarh</th>\n",
              "      <th>Aluva</th>\n",
              "      <th>Alwar bypass road</th>\n",
              "      <th>Alwarthirunagar</th>\n",
              "      <th>Ambattur</th>\n",
              "      <th>Amroli</th>\n",
              "      <th>Anakaputhur</th>\n",
              "      <th>Anand</th>\n",
              "      <th>Anand Colony</th>\n",
              "      <th>Andhra Bank Clny Avilal.</th>\n",
              "      <th>Anna Nagar</th>\n",
              "      <th>Anna nagar</th>\n",
              "      <th>Annapurna Road</th>\n",
              "      <th>Annapurna Society</th>\n",
              "      <th>Arekere</th>\n",
              "      <th>Arlem</th>\n",
              "      <th>Asansol</th>\n",
              "      <th>Athwalines</th>\n",
              "      <th>Atibelle Circle</th>\n",
              "      <th>Awadh Vikas Yojana</th>\n",
              "      <th>Ayanavaram</th>\n",
              "      <th>Ayodhya Nagar</th>\n",
              "      <th>BEHIND SECRETARIAT</th>\n",
              "      <th>BHAVNAGAR</th>\n",
              "      <th>BHINGAR</th>\n",
              "      <th>BTM 4th Stage</th>\n",
              "      <th>...</th>\n",
              "      <th>Wardha</th>\n",
              "      <th>Washim</th>\n",
              "      <th>Wayanad</th>\n",
              "      <th>West Tambaram</th>\n",
              "      <th>Whitefield</th>\n",
              "      <th>Yavatmal</th>\n",
              "      <th>ZAGADE WASTI</th>\n",
              "      <th>akshaya Towers</th>\n",
              "      <th>ambika township</th>\n",
              "      <th>avadh vihar yojna lko</th>\n",
              "      <th>barasat</th>\n",
              "      <th>boda bag</th>\n",
              "      <th>chas</th>\n",
              "      <th>deshaiphet Road</th>\n",
              "      <th>doddaballapur Road</th>\n",
              "      <th>jamnagar road</th>\n",
              "      <th>karjat</th>\n",
              "      <th>khammam Dist</th>\n",
              "      <th>kundrathur</th>\n",
              "      <th>lekhraj metro station</th>\n",
              "      <th>medavakkam</th>\n",
              "      <th>meherpur</th>\n",
              "      <th>mylapore</th>\n",
              "      <th>nandi Garden</th>\n",
              "      <th>near Post Office</th>\n",
              "      <th>near daivadnya bhavan</th>\n",
              "      <th>next to tata chrome</th>\n",
              "      <th>nr shendra area</th>\n",
              "      <th>opp To Nagarjuna Sch</th>\n",
              "      <th>palaniappa nagar</th>\n",
              "      <th>patuli</th>\n",
              "      <th>pratap nagar</th>\n",
              "      <th>rajkot</th>\n",
              "      <th>ranchi</th>\n",
              "      <th>sangowal</th>\n",
              "      <th>sector 4 plot no 22</th>\n",
              "      <th>sevoke road</th>\n",
              "      <th>umiyanagar2</th>\n",
              "      <th>vasant Vihar</th>\n",
              "      <th>yamuna Complex</th>\n",
              "    </tr>\n",
              "    <tr>\n",
              "      <th>title</th>\n",
              "      <th></th>\n",
              "      <th></th>\n",
              "      <th></th>\n",
              "      <th></th>\n",
              "      <th></th>\n",
              "      <th></th>\n",
              "      <th></th>\n",
              "      <th></th>\n",
              "      <th></th>\n",
              "      <th></th>\n",
              "      <th></th>\n",
              "      <th></th>\n",
              "      <th></th>\n",
              "      <th></th>\n",
              "      <th></th>\n",
              "      <th></th>\n",
              "      <th></th>\n",
              "      <th></th>\n",
              "      <th></th>\n",
              "      <th></th>\n",
              "      <th></th>\n",
              "      <th></th>\n",
              "      <th></th>\n",
              "      <th></th>\n",
              "      <th></th>\n",
              "      <th></th>\n",
              "      <th></th>\n",
              "      <th></th>\n",
              "      <th></th>\n",
              "      <th></th>\n",
              "      <th></th>\n",
              "      <th></th>\n",
              "      <th></th>\n",
              "      <th></th>\n",
              "      <th></th>\n",
              "      <th></th>\n",
              "      <th></th>\n",
              "      <th></th>\n",
              "      <th></th>\n",
              "      <th></th>\n",
              "      <th></th>\n",
              "      <th></th>\n",
              "      <th></th>\n",
              "      <th></th>\n",
              "      <th></th>\n",
              "      <th></th>\n",
              "      <th></th>\n",
              "      <th></th>\n",
              "      <th></th>\n",
              "      <th></th>\n",
              "      <th></th>\n",
              "      <th></th>\n",
              "      <th></th>\n",
              "      <th></th>\n",
              "      <th></th>\n",
              "      <th></th>\n",
              "      <th></th>\n",
              "      <th></th>\n",
              "      <th></th>\n",
              "      <th></th>\n",
              "      <th></th>\n",
              "      <th></th>\n",
              "      <th></th>\n",
              "      <th></th>\n",
              "      <th></th>\n",
              "      <th></th>\n",
              "      <th></th>\n",
              "      <th></th>\n",
              "      <th></th>\n",
              "      <th></th>\n",
              "      <th></th>\n",
              "      <th></th>\n",
              "      <th></th>\n",
              "      <th></th>\n",
              "      <th></th>\n",
              "      <th></th>\n",
              "      <th></th>\n",
              "      <th></th>\n",
              "      <th></th>\n",
              "      <th></th>\n",
              "      <th></th>\n",
              "    </tr>\n",
              "  </thead>\n",
              "  <tbody>\n",
              "    <tr>\n",
              "      <th>0</th>\n",
              "      <td>0</td>\n",
              "      <td>0</td>\n",
              "      <td>0</td>\n",
              "      <td>0</td>\n",
              "      <td>0</td>\n",
              "      <td>0</td>\n",
              "      <td>0</td>\n",
              "      <td>0</td>\n",
              "      <td>0</td>\n",
              "      <td>0</td>\n",
              "      <td>0</td>\n",
              "      <td>0</td>\n",
              "      <td>0</td>\n",
              "      <td>0</td>\n",
              "      <td>0</td>\n",
              "      <td>0</td>\n",
              "      <td>0</td>\n",
              "      <td>0</td>\n",
              "      <td>0</td>\n",
              "      <td>0</td>\n",
              "      <td>0</td>\n",
              "      <td>0</td>\n",
              "      <td>0</td>\n",
              "      <td>0</td>\n",
              "      <td>0</td>\n",
              "      <td>0</td>\n",
              "      <td>0</td>\n",
              "      <td>0</td>\n",
              "      <td>0</td>\n",
              "      <td>0</td>\n",
              "      <td>0</td>\n",
              "      <td>0</td>\n",
              "      <td>0</td>\n",
              "      <td>0</td>\n",
              "      <td>0</td>\n",
              "      <td>0</td>\n",
              "      <td>0</td>\n",
              "      <td>0</td>\n",
              "      <td>0</td>\n",
              "      <td>0</td>\n",
              "      <td>...</td>\n",
              "      <td>0</td>\n",
              "      <td>0</td>\n",
              "      <td>0</td>\n",
              "      <td>0</td>\n",
              "      <td>0</td>\n",
              "      <td>0</td>\n",
              "      <td>0</td>\n",
              "      <td>0</td>\n",
              "      <td>0</td>\n",
              "      <td>0</td>\n",
              "      <td>0</td>\n",
              "      <td>0</td>\n",
              "      <td>0</td>\n",
              "      <td>0</td>\n",
              "      <td>0</td>\n",
              "      <td>0</td>\n",
              "      <td>0</td>\n",
              "      <td>0</td>\n",
              "      <td>0</td>\n",
              "      <td>0</td>\n",
              "      <td>0</td>\n",
              "      <td>0</td>\n",
              "      <td>0</td>\n",
              "      <td>0</td>\n",
              "      <td>0</td>\n",
              "      <td>0</td>\n",
              "      <td>0</td>\n",
              "      <td>0</td>\n",
              "      <td>0</td>\n",
              "      <td>0</td>\n",
              "      <td>0</td>\n",
              "      <td>0</td>\n",
              "      <td>0</td>\n",
              "      <td>0</td>\n",
              "      <td>0</td>\n",
              "      <td>0</td>\n",
              "      <td>0</td>\n",
              "      <td>0</td>\n",
              "      <td>0</td>\n",
              "      <td>0</td>\n",
              "    </tr>\n",
              "    <tr>\n",
              "      <th>1</th>\n",
              "      <td>0</td>\n",
              "      <td>0</td>\n",
              "      <td>0</td>\n",
              "      <td>0</td>\n",
              "      <td>0</td>\n",
              "      <td>0</td>\n",
              "      <td>0</td>\n",
              "      <td>0</td>\n",
              "      <td>0</td>\n",
              "      <td>0</td>\n",
              "      <td>0</td>\n",
              "      <td>0</td>\n",
              "      <td>0</td>\n",
              "      <td>0</td>\n",
              "      <td>0</td>\n",
              "      <td>0</td>\n",
              "      <td>0</td>\n",
              "      <td>0</td>\n",
              "      <td>0</td>\n",
              "      <td>0</td>\n",
              "      <td>0</td>\n",
              "      <td>0</td>\n",
              "      <td>0</td>\n",
              "      <td>0</td>\n",
              "      <td>0</td>\n",
              "      <td>0</td>\n",
              "      <td>0</td>\n",
              "      <td>0</td>\n",
              "      <td>0</td>\n",
              "      <td>0</td>\n",
              "      <td>0</td>\n",
              "      <td>0</td>\n",
              "      <td>0</td>\n",
              "      <td>0</td>\n",
              "      <td>0</td>\n",
              "      <td>0</td>\n",
              "      <td>0</td>\n",
              "      <td>0</td>\n",
              "      <td>0</td>\n",
              "      <td>0</td>\n",
              "      <td>...</td>\n",
              "      <td>0</td>\n",
              "      <td>0</td>\n",
              "      <td>0</td>\n",
              "      <td>0</td>\n",
              "      <td>0</td>\n",
              "      <td>0</td>\n",
              "      <td>0</td>\n",
              "      <td>0</td>\n",
              "      <td>0</td>\n",
              "      <td>0</td>\n",
              "      <td>0</td>\n",
              "      <td>0</td>\n",
              "      <td>0</td>\n",
              "      <td>0</td>\n",
              "      <td>0</td>\n",
              "      <td>0</td>\n",
              "      <td>0</td>\n",
              "      <td>0</td>\n",
              "      <td>0</td>\n",
              "      <td>0</td>\n",
              "      <td>0</td>\n",
              "      <td>0</td>\n",
              "      <td>0</td>\n",
              "      <td>0</td>\n",
              "      <td>0</td>\n",
              "      <td>0</td>\n",
              "      <td>0</td>\n",
              "      <td>0</td>\n",
              "      <td>0</td>\n",
              "      <td>0</td>\n",
              "      <td>0</td>\n",
              "      <td>0</td>\n",
              "      <td>0</td>\n",
              "      <td>0</td>\n",
              "      <td>0</td>\n",
              "      <td>0</td>\n",
              "      <td>0</td>\n",
              "      <td>0</td>\n",
              "      <td>0</td>\n",
              "      <td>0</td>\n",
              "    </tr>\n",
              "    <tr>\n",
              "      <th>2</th>\n",
              "      <td>0</td>\n",
              "      <td>0</td>\n",
              "      <td>0</td>\n",
              "      <td>0</td>\n",
              "      <td>0</td>\n",
              "      <td>0</td>\n",
              "      <td>0</td>\n",
              "      <td>0</td>\n",
              "      <td>0</td>\n",
              "      <td>0</td>\n",
              "      <td>0</td>\n",
              "      <td>0</td>\n",
              "      <td>0</td>\n",
              "      <td>0</td>\n",
              "      <td>0</td>\n",
              "      <td>0</td>\n",
              "      <td>0</td>\n",
              "      <td>0</td>\n",
              "      <td>0</td>\n",
              "      <td>0</td>\n",
              "      <td>0</td>\n",
              "      <td>0</td>\n",
              "      <td>0</td>\n",
              "      <td>0</td>\n",
              "      <td>0</td>\n",
              "      <td>0</td>\n",
              "      <td>0</td>\n",
              "      <td>0</td>\n",
              "      <td>0</td>\n",
              "      <td>0</td>\n",
              "      <td>0</td>\n",
              "      <td>0</td>\n",
              "      <td>0</td>\n",
              "      <td>0</td>\n",
              "      <td>0</td>\n",
              "      <td>0</td>\n",
              "      <td>0</td>\n",
              "      <td>0</td>\n",
              "      <td>0</td>\n",
              "      <td>0</td>\n",
              "      <td>...</td>\n",
              "      <td>0</td>\n",
              "      <td>0</td>\n",
              "      <td>0</td>\n",
              "      <td>0</td>\n",
              "      <td>0</td>\n",
              "      <td>0</td>\n",
              "      <td>0</td>\n",
              "      <td>0</td>\n",
              "      <td>0</td>\n",
              "      <td>0</td>\n",
              "      <td>0</td>\n",
              "      <td>0</td>\n",
              "      <td>0</td>\n",
              "      <td>0</td>\n",
              "      <td>0</td>\n",
              "      <td>0</td>\n",
              "      <td>0</td>\n",
              "      <td>0</td>\n",
              "      <td>0</td>\n",
              "      <td>0</td>\n",
              "      <td>0</td>\n",
              "      <td>0</td>\n",
              "      <td>0</td>\n",
              "      <td>0</td>\n",
              "      <td>0</td>\n",
              "      <td>0</td>\n",
              "      <td>0</td>\n",
              "      <td>0</td>\n",
              "      <td>0</td>\n",
              "      <td>0</td>\n",
              "      <td>0</td>\n",
              "      <td>0</td>\n",
              "      <td>0</td>\n",
              "      <td>0</td>\n",
              "      <td>0</td>\n",
              "      <td>0</td>\n",
              "      <td>0</td>\n",
              "      <td>0</td>\n",
              "      <td>0</td>\n",
              "      <td>0</td>\n",
              "    </tr>\n",
              "    <tr>\n",
              "      <th>3</th>\n",
              "      <td>0</td>\n",
              "      <td>0</td>\n",
              "      <td>0</td>\n",
              "      <td>0</td>\n",
              "      <td>0</td>\n",
              "      <td>0</td>\n",
              "      <td>0</td>\n",
              "      <td>0</td>\n",
              "      <td>0</td>\n",
              "      <td>0</td>\n",
              "      <td>0</td>\n",
              "      <td>0</td>\n",
              "      <td>0</td>\n",
              "      <td>0</td>\n",
              "      <td>0</td>\n",
              "      <td>0</td>\n",
              "      <td>0</td>\n",
              "      <td>0</td>\n",
              "      <td>0</td>\n",
              "      <td>0</td>\n",
              "      <td>0</td>\n",
              "      <td>0</td>\n",
              "      <td>0</td>\n",
              "      <td>0</td>\n",
              "      <td>0</td>\n",
              "      <td>0</td>\n",
              "      <td>0</td>\n",
              "      <td>0</td>\n",
              "      <td>0</td>\n",
              "      <td>0</td>\n",
              "      <td>0</td>\n",
              "      <td>0</td>\n",
              "      <td>0</td>\n",
              "      <td>0</td>\n",
              "      <td>0</td>\n",
              "      <td>0</td>\n",
              "      <td>0</td>\n",
              "      <td>0</td>\n",
              "      <td>0</td>\n",
              "      <td>0</td>\n",
              "      <td>...</td>\n",
              "      <td>0</td>\n",
              "      <td>0</td>\n",
              "      <td>0</td>\n",
              "      <td>0</td>\n",
              "      <td>0</td>\n",
              "      <td>0</td>\n",
              "      <td>0</td>\n",
              "      <td>0</td>\n",
              "      <td>0</td>\n",
              "      <td>0</td>\n",
              "      <td>0</td>\n",
              "      <td>0</td>\n",
              "      <td>0</td>\n",
              "      <td>0</td>\n",
              "      <td>0</td>\n",
              "      <td>0</td>\n",
              "      <td>0</td>\n",
              "      <td>0</td>\n",
              "      <td>0</td>\n",
              "      <td>0</td>\n",
              "      <td>0</td>\n",
              "      <td>0</td>\n",
              "      <td>0</td>\n",
              "      <td>0</td>\n",
              "      <td>0</td>\n",
              "      <td>0</td>\n",
              "      <td>0</td>\n",
              "      <td>0</td>\n",
              "      <td>0</td>\n",
              "      <td>0</td>\n",
              "      <td>0</td>\n",
              "      <td>0</td>\n",
              "      <td>0</td>\n",
              "      <td>0</td>\n",
              "      <td>0</td>\n",
              "      <td>0</td>\n",
              "      <td>0</td>\n",
              "      <td>0</td>\n",
              "      <td>0</td>\n",
              "      <td>0</td>\n",
              "    </tr>\n",
              "    <tr>\n",
              "      <th>4</th>\n",
              "      <td>0</td>\n",
              "      <td>0</td>\n",
              "      <td>0</td>\n",
              "      <td>0</td>\n",
              "      <td>0</td>\n",
              "      <td>0</td>\n",
              "      <td>0</td>\n",
              "      <td>0</td>\n",
              "      <td>0</td>\n",
              "      <td>0</td>\n",
              "      <td>0</td>\n",
              "      <td>0</td>\n",
              "      <td>0</td>\n",
              "      <td>0</td>\n",
              "      <td>0</td>\n",
              "      <td>0</td>\n",
              "      <td>0</td>\n",
              "      <td>0</td>\n",
              "      <td>0</td>\n",
              "      <td>0</td>\n",
              "      <td>0</td>\n",
              "      <td>0</td>\n",
              "      <td>0</td>\n",
              "      <td>0</td>\n",
              "      <td>0</td>\n",
              "      <td>0</td>\n",
              "      <td>0</td>\n",
              "      <td>0</td>\n",
              "      <td>0</td>\n",
              "      <td>0</td>\n",
              "      <td>0</td>\n",
              "      <td>0</td>\n",
              "      <td>0</td>\n",
              "      <td>0</td>\n",
              "      <td>0</td>\n",
              "      <td>0</td>\n",
              "      <td>0</td>\n",
              "      <td>0</td>\n",
              "      <td>0</td>\n",
              "      <td>0</td>\n",
              "      <td>...</td>\n",
              "      <td>0</td>\n",
              "      <td>0</td>\n",
              "      <td>0</td>\n",
              "      <td>0</td>\n",
              "      <td>0</td>\n",
              "      <td>0</td>\n",
              "      <td>0</td>\n",
              "      <td>0</td>\n",
              "      <td>0</td>\n",
              "      <td>0</td>\n",
              "      <td>0</td>\n",
              "      <td>0</td>\n",
              "      <td>0</td>\n",
              "      <td>0</td>\n",
              "      <td>0</td>\n",
              "      <td>0</td>\n",
              "      <td>0</td>\n",
              "      <td>0</td>\n",
              "      <td>0</td>\n",
              "      <td>0</td>\n",
              "      <td>0</td>\n",
              "      <td>0</td>\n",
              "      <td>0</td>\n",
              "      <td>0</td>\n",
              "      <td>0</td>\n",
              "      <td>0</td>\n",
              "      <td>0</td>\n",
              "      <td>0</td>\n",
              "      <td>0</td>\n",
              "      <td>0</td>\n",
              "      <td>0</td>\n",
              "      <td>0</td>\n",
              "      <td>0</td>\n",
              "      <td>0</td>\n",
              "      <td>0</td>\n",
              "      <td>0</td>\n",
              "      <td>0</td>\n",
              "      <td>0</td>\n",
              "      <td>0</td>\n",
              "      <td>0</td>\n",
              "    </tr>\n",
              "  </tbody>\n",
              "</table>\n",
              "<p>5 rows × 911 columns</p>\n",
              "</div>"
            ],
            "text/plain": [
              "ad_2_new      44 the cross  ...  vasant Vihar  yamuna Complex\n",
              "title                       ...                              \n",
              "0         0              0  ...             0               0\n",
              "1         0              0  ...             0               0\n",
              "2         0              0  ...             0               0\n",
              "3         0              0  ...             0               0\n",
              "4         0              0  ...             0               0\n",
              "\n",
              "[5 rows x 911 columns]"
            ]
          },
          "metadata": {
            "tags": []
          },
          "execution_count": 13
        }
      ]
    },
    {
      "cell_type": "code",
      "metadata": {
        "id": "WH4LdIGbOrAr"
      },
      "source": [
        "df=df.merge(go_tags, on='title', how='left')"
      ],
      "execution_count": null,
      "outputs": []
    },
    {
      "cell_type": "code",
      "metadata": {
        "id": "b3FhhR0sNfdn"
      },
      "source": [
        "from sklearn.preprocessing import LabelEncoder\n",
        "le = LabelEncoder()\n",
        "df['ad_1'] = le.fit_transform(df['ad_1'])\n",
        "df['ad_1']=df['ad_1']+1\n",
        "le = LabelEncoder()\n",
        "df['ad_2'] = le.fit_transform(df['ad_2'])\n",
        "df['ad_2']=df['ad_2']+1\n",
        "del df['ADDRESS']"
      ],
      "execution_count": null,
      "outputs": []
    },
    {
      "cell_type": "code",
      "metadata": {
        "id": "T3dfUqanQgqB"
      },
      "source": [
        "#back\n",
        "for i in df.columns:\n",
        "  if i in x:\n",
        "    del df[i]\n",
        "  else:\n",
        "    pass"
      ],
      "execution_count": null,
      "outputs": []
    },
    {
      "cell_type": "code",
      "metadata": {
        "id": "0sLfTlatFkcx"
      },
      "source": [
        "df['SQUARE_FT_r']=df['SQUARE_FT']/df['BHK_NO.']\n",
        "df['SQUARE_FT_rrb']=df['SQUARE_FT']/(df['READY_TO_MOVE']+df['RESALE'])"
      ],
      "execution_count": null,
      "outputs": []
    },
    {
      "cell_type": "code",
      "metadata": {
        "id": "TYJHtcLOMYJk"
      },
      "source": [
        "df['POSTED_BY'] = le.fit_transform(df['POSTED_BY'])\n",
        "df['BHK_OR_RK'] = le.fit_transform(df['BHK_OR_RK'])"
      ],
      "execution_count": null,
      "outputs": []
    },
    {
      "cell_type": "code",
      "metadata": {
        "id": "8td-bHGezoR6"
      },
      "source": [
        "train = df[df['TARGET(PRICE_IN_LACS)'].isnull()==False]\n",
        "test = df[df['TARGET(PRICE_IN_LACS)'].isnull()==True]\n",
        "del test['TARGET(PRICE_IN_LACS)']"
      ],
      "execution_count": null,
      "outputs": []
    },
    {
      "cell_type": "code",
      "metadata": {
        "id": "FoJR3TCw0OA_"
      },
      "source": [
        "train_df=train.copy()\n",
        "test_df=test.copy()"
      ],
      "execution_count": null,
      "outputs": []
    },
    {
      "cell_type": "code",
      "metadata": {
        "id": "-7x7u8pQ0txg"
      },
      "source": [
        "train_df['TARGET(PRICE_IN_LACS)'] = np.log1p(train_df['TARGET(PRICE_IN_LACS)'])"
      ],
      "execution_count": null,
      "outputs": []
    },
    {
      "cell_type": "code",
      "metadata": {
        "id": "p47m1Tun0yxS"
      },
      "source": [
        "X = train_df.drop(labels=['TARGET(PRICE_IN_LACS)'], axis=1)\n",
        "y = train_df['TARGET(PRICE_IN_LACS)'].values\n",
        "\n",
        "from sklearn.model_selection import train_test_split\n",
        "X_train, X_cv, y_train, y_cv = train_test_split(X, y, test_size=0.25, random_state=42)"
      ],
      "execution_count": null,
      "outputs": []
    },
    {
      "cell_type": "code",
      "metadata": {
        "id": "DsbAMBM201Vd",
        "outputId": "32cf1941-ae44-42ee-9772-6155dc0065eb",
        "colab": {
          "base_uri": "https://localhost:8080/",
          "height": 33
        }
      },
      "source": [
        "X_train.shape, y_train.shape, X_cv.shape, y_cv.shape"
      ],
      "execution_count": null,
      "outputs": [
        {
          "output_type": "execute_result",
          "data": {
            "text/plain": [
              "((22088, 14), (22088,), (7363, 14), (7363,))"
            ]
          },
          "metadata": {
            "tags": []
          },
          "execution_count": 47
        }
      ]
    },
    {
      "cell_type": "code",
      "metadata": {
        "id": "A7BTsl4y06VI"
      },
      "source": [
        "from math import sqrt \n",
        "from sklearn.metrics import mean_squared_log_error"
      ],
      "execution_count": null,
      "outputs": []
    },
    {
      "cell_type": "markdown",
      "metadata": {
        "id": "QzRwdsrZr6SQ"
      },
      "source": [
        "# lgb"
      ]
    },
    {
      "cell_type": "code",
      "metadata": {
        "id": "JhACqaNB08pj",
        "outputId": "b2b7ec81-bafd-4f69-cad3-7f0b24f743df",
        "colab": {
          "base_uri": "https://localhost:8080/",
          "height": 134
        }
      },
      "source": [
        "import lightgbm as lgb\n",
        "train_data = lgb.Dataset(X_train, label=y_train)\n",
        "test_data = lgb.Dataset(X_cv, label=y_cv)\n",
        "\n",
        "param = {'objective': 'regression',\n",
        "         'boosting': 'gbdt',  \n",
        "         'metric': 'l2_root',\n",
        "         'learning_rate': 0.1, \n",
        "         'num_iterations': 1000,\n",
        "         'num_leaves': 69,\n",
        "         'max_depth': -1,\n",
        "         'min_data_in_leaf': 12,\n",
        "         'bagging_fraction': 0.80,\n",
        "         'bagging_freq': 1,\n",
        "         'bagging_seed': 3,\n",
        "         'feature_fraction': 0.90,\n",
        "         'feature_fraction_seed': 2,\n",
        "         'early_stopping_round': 200,\n",
        "         'max_bin': 250\n",
        "         }\n",
        "\n",
        "lgbm = lgb.train(params=param, verbose_eval=100, train_set=train_data, valid_sets=[test_data])\n",
        "\n",
        "y_pred_lgbm = lgbm.predict(X_cv)\n",
        "print('RMSLE:', sqrt(mean_squared_log_error(np.expm1(y_cv), np.expm1(y_pred_lgbm))))"
      ],
      "execution_count": null,
      "outputs": [
        {
          "output_type": "stream",
          "text": [
            "/usr/local/lib/python3.6/dist-packages/lightgbm/engine.py:118: UserWarning: Found `num_iterations` in params. Will use it instead of argument\n",
            "  warnings.warn(\"Found `{}` in params. Will use it instead of argument\".format(alias))\n",
            "/usr/local/lib/python3.6/dist-packages/lightgbm/engine.py:123: UserWarning: Found `early_stopping_round` in params. Will use it instead of argument\n",
            "  warnings.warn(\"Found `{}` in params. Will use it instead of argument\".format(alias))\n"
          ],
          "name": "stderr"
        },
        {
          "output_type": "stream",
          "text": [
            "Training until validation scores don't improve for 200 rounds.\n",
            "[100]\tvalid_0's rmse: 0.310793\n",
            "[200]\tvalid_0's rmse: 0.297959\n"
          ],
          "name": "stdout"
        }
      ]
    },
    {
      "cell_type": "code",
      "metadata": {
        "id": "0FN7hzge1BS0",
        "outputId": "8a12809b-6518-41fb-e975-4f4bf26a4e82",
        "colab": {
          "base_uri": "https://localhost:8080/",
          "height": 728
        }
      },
      "source": [
        "import seaborn as sns\n",
        "feature_imp = pd.DataFrame(sorted(zip(lgbm.feature_importance(), X.columns), reverse=True)[:50], \n",
        "                           columns=['Value','Feature'])\n",
        "plt.figure(figsize=(12, 10))\n",
        "sns.barplot(x=\"Value\", y=\"Feature\", data=feature_imp.sort_values(by=\"Value\", ascending=False))\n",
        "plt.title('LightGBM Features')\n",
        "plt.tight_layout()\n",
        "plt.show()"
      ],
      "execution_count": null,
      "outputs": [
        {
          "output_type": "display_data",
          "data": {
            "image/png": "[encoded data removed]",
            "text/plain": [
              "<Figure size 864x720 with 1 Axes>"
            ]
          },
          "metadata": {
            "tags": [],
            "needs_background": "light"
          }
        }
      ]
    },
    {
      "cell_type": "code",
      "metadata": {
        "id": "2CON6t5Y3QSk"
      },
      "source": [
        "Xtest = test_df"
      ],
      "execution_count": null,
      "outputs": []
    },
    {
      "cell_type": "code",
      "metadata": {
        "id": "5efQjL103YDg",
        "outputId": "a6816c3e-06cb-470a-daeb-d6818cd70921",
        "colab": {
          "base_uri": "https://localhost:8080/",
          "height": 352
        }
      },
      "source": [
        "\n",
        "from sklearn.model_selection import KFold\n",
        "from lightgbm import LGBMRegressor\n",
        "\n",
        "errlgb = []\n",
        "y_pred_totlgb = []\n",
        "\n",
        "fold = KFold(n_splits=4, shuffle=True, random_state=101)\n",
        "\n",
        "for train_index, test_index in fold.split(X):\n",
        "    X_train, X_test = X.loc[train_index], X.loc[test_index]\n",
        "    y_train, y_test = y[train_index], y[test_index]\n",
        "\n",
        "    lgbm = LGBMRegressor(**param)\n",
        "    lgbm.fit(X_train, y_train, eval_set=[(X_test, y_test)], verbose=0, early_stopping_rounds=200)\n",
        "\n",
        "    y_pred_lgbm = lgbm.predict(X_test)\n",
        "    print(\"RMSLE LGBM: \", sqrt(mean_squared_log_error(np.exp(y_test), np.exp(y_pred_lgbm))))\n",
        "\n",
        "    errlgb.append(sqrt(mean_squared_log_error(np.exp(y_test), np.exp(y_pred_lgbm))))\n",
        "    p = lgbm.predict(Xtest)\n",
        "    y_pred_totlgb.append(p)"
      ],
      "execution_count": null,
      "outputs": [
        {
          "output_type": "stream",
          "text": [
            "/usr/local/lib/python3.6/dist-packages/lightgbm/engine.py:118: UserWarning: Found `num_iterations` in params. Will use it instead of argument\n",
            "  warnings.warn(\"Found `{}` in params. Will use it instead of argument\".format(alias))\n",
            "/usr/local/lib/python3.6/dist-packages/lightgbm/engine.py:123: UserWarning: Found `early_stopping_round` in params. Will use it instead of argument\n",
            "  warnings.warn(\"Found `{}` in params. Will use it instead of argument\".format(alias))\n"
          ],
          "name": "stderr"
        },
        {
          "output_type": "stream",
          "text": [
            "RMSLE LGBM:  0.2970660868143401\n"
          ],
          "name": "stdout"
        },
        {
          "output_type": "stream",
          "text": [
            "/usr/local/lib/python3.6/dist-packages/lightgbm/engine.py:118: UserWarning: Found `num_iterations` in params. Will use it instead of argument\n",
            "  warnings.warn(\"Found `{}` in params. Will use it instead of argument\".format(alias))\n",
            "/usr/local/lib/python3.6/dist-packages/lightgbm/engine.py:123: UserWarning: Found `early_stopping_round` in params. Will use it instead of argument\n",
            "  warnings.warn(\"Found `{}` in params. Will use it instead of argument\".format(alias))\n"
          ],
          "name": "stderr"
        },
        {
          "output_type": "stream",
          "text": [
            "RMSLE LGBM:  0.29938305902686374\n"
          ],
          "name": "stdout"
        },
        {
          "output_type": "stream",
          "text": [
            "/usr/local/lib/python3.6/dist-packages/lightgbm/engine.py:118: UserWarning: Found `num_iterations` in params. Will use it instead of argument\n",
            "  warnings.warn(\"Found `{}` in params. Will use it instead of argument\".format(alias))\n",
            "/usr/local/lib/python3.6/dist-packages/lightgbm/engine.py:123: UserWarning: Found `early_stopping_round` in params. Will use it instead of argument\n",
            "  warnings.warn(\"Found `{}` in params. Will use it instead of argument\".format(alias))\n"
          ],
          "name": "stderr"
        },
        {
          "output_type": "stream",
          "text": [
            "RMSLE LGBM:  0.2916486399479148\n"
          ],
          "name": "stdout"
        },
        {
          "output_type": "stream",
          "text": [
            "/usr/local/lib/python3.6/dist-packages/lightgbm/engine.py:118: UserWarning: Found `num_iterations` in params. Will use it instead of argument\n",
            "  warnings.warn(\"Found `{}` in params. Will use it instead of argument\".format(alias))\n",
            "/usr/local/lib/python3.6/dist-packages/lightgbm/engine.py:123: UserWarning: Found `early_stopping_round` in params. Will use it instead of argument\n",
            "  warnings.warn(\"Found `{}` in params. Will use it instead of argument\".format(alias))\n"
          ],
          "name": "stderr"
        },
        {
          "output_type": "stream",
          "text": [
            "RMSLE LGBM:  0.28804408958733796\n"
          ],
          "name": "stdout"
        }
      ]
    },
    {
      "cell_type": "code",
      "metadata": {
        "id": "RlUfD8kT3aOY",
        "outputId": "6ed64e32-094d-4b1f-805e-ddc09221490c",
        "colab": {
          "base_uri": "https://localhost:8080/",
          "height": 33
        }
      },
      "source": [
        "np.mean(errlgb,0)"
      ],
      "execution_count": null,
      "outputs": [
        {
          "output_type": "execute_result",
          "data": {
            "text/plain": [
              "0.29403546884411413"
            ]
          },
          "metadata": {
            "tags": []
          },
          "execution_count": 98
        }
      ]
    },
    {
      "cell_type": "code",
      "metadata": {
        "id": "Nz1ej6BI3czA",
        "outputId": "efb65c7d-2a2b-40f5-f5b9-ba61de39ccc9",
        "colab": {
          "base_uri": "https://localhost:8080/",
          "height": 50
        }
      },
      "source": [
        "lgbm_final = np.expm1(np.mean(y_pred_totlgb,0))\n",
        "lgbm_final"
      ],
      "execution_count": null,
      "outputs": [
        {
          "output_type": "execute_result",
          "data": {
            "text/plain": [
              "array([  12.07904392,   81.59660029,   62.81175242, ..., 5795.20341755,\n",
              "         86.96874862,  706.18225822])"
            ]
          },
          "metadata": {
            "tags": []
          },
          "execution_count": 99
        }
      ]
    },
    {
      "cell_type": "code",
      "metadata": {
        "id": "KCyw5fTB3cxy",
        "outputId": "64009e4a-eeae-4b04-b30e-599415e44bbc",
        "colab": {
          "base_uri": "https://localhost:8080/",
          "height": 252
        }
      },
      "source": [
        "submission = pd.DataFrame({\n",
        "        \"TARGET(PRICE_IN_LACS)\":lgbm_final\n",
        "    })\n",
        "submission.to_csv('./mhpno.csv', index=False)\n",
        "print(submission)"
      ],
      "execution_count": null,
      "outputs": [
        {
          "output_type": "stream",
          "text": [
            "       TARGET(PRICE_IN_LACS)\n",
            "0                  12.079044\n",
            "1                  81.596600\n",
            "2                  62.811752\n",
            "3                  28.705248\n",
            "4                  16.263769\n",
            "...                      ...\n",
            "68715             112.455763\n",
            "68716             122.576969\n",
            "68717            5795.203418\n",
            "68718              86.968749\n",
            "68719             706.182258\n",
            "\n",
            "[68720 rows x 1 columns]\n"
          ],
          "name": "stdout"
        }
      ]
    },
    {
      "cell_type": "code",
      "metadata": {
        "id": "7UE7zWPe6C8z"
      },
      "source": [
        ""
      ],
      "execution_count": null,
      "outputs": []
    },
    {
      "cell_type": "markdown",
      "metadata": {
        "id": "8VmtCgcUr3jI"
      },
      "source": [
        "# gb"
      ]
    },
    {
      "cell_type": "code",
      "metadata": {
        "id": "PrSAwjqDr4hR",
        "outputId": "75d3d007-a789-4e36-e8f0-21d251a60bcf",
        "colab": {
          "base_uri": "https://localhost:8080/",
          "height": 520
        }
      },
      "source": [
        "from sklearn.ensemble import GradientBoostingRegressor\n",
        "gb = GradientBoostingRegressor(verbose=1, learning_rate=0.1, n_estimators=1000, random_state=42, subsample=0.8)\n",
        "gb.fit(X_train, y_train)\n",
        "y_pred = gb.predict(X_cv)\n",
        "print('RMSLE:', sqrt(mean_squared_log_error(np.expm1(y_cv), np.expm1(y_pred))))"
      ],
      "execution_count": null,
      "outputs": [
        {
          "output_type": "stream",
          "text": [
            "      Iter       Train Loss      OOB Improve   Remaining Time \n",
            "         1           0.7123           0.0734           48.56s\n",
            "         2           0.6356           0.0671           46.33s\n",
            "         3           0.5799           0.0611           44.51s\n",
            "         4           0.5339           0.0457           43.58s\n",
            "         5           0.4915           0.0398           43.49s\n",
            "         6           0.4499           0.0375           43.52s\n",
            "         7           0.4223           0.0292           43.31s\n",
            "         8           0.3999           0.0231           43.06s\n",
            "         9           0.3730           0.0237           42.86s\n",
            "        10           0.3551           0.0205           42.71s\n",
            "        20           0.2433           0.0066           41.43s\n",
            "        30           0.1985           0.0035           40.46s\n",
            "        40           0.1794           0.0011           40.06s\n",
            "        50           0.1677           0.0007           39.50s\n",
            "        60           0.1607           0.0010           38.99s\n",
            "        70           0.1542           0.0004           38.33s\n",
            "        80           0.1491           0.0001           37.84s\n",
            "        90           0.1453          -0.0001           37.46s\n",
            "       100           0.1428           0.0005           37.05s\n",
            "       200           0.1167           0.0002           32.56s\n",
            "       300           0.1045           0.0000           28.36s\n",
            "       400           0.0959           0.0001           24.26s\n",
            "       500           0.0895           0.0000           20.19s\n",
            "       600           0.0853          -0.0000           16.14s\n",
            "       700           0.0799          -0.0000           12.08s\n",
            "       800           0.0758           0.0000            8.05s\n",
            "       900           0.0730          -0.0000            4.03s\n",
            "      1000           0.0691          -0.0000            0.00s\n",
            "RMSLE: 0.332545433252997\n"
          ],
          "name": "stdout"
        }
      ]
    },
    {
      "cell_type": "code",
      "metadata": {
        "id": "R4asnp_T_JtW",
        "outputId": "cd6ff527-8f29-4e44-ffe2-f9792c676545",
        "colab": {
          "base_uri": "https://localhost:8080/",
          "height": 728
        }
      },
      "source": [
        "feature_imp = pd.DataFrame(sorted(zip(gb.feature_importances_, X.columns), reverse=True)[:60], columns=['Value','Feature'])\n",
        "plt.figure(figsize=(12,10))\n",
        "sns.barplot(x=\"Value\", y=\"Feature\", data=feature_imp.sort_values(by=\"Value\", ascending=False))\n",
        "plt.title('Gradient Boosting Features')\n",
        "plt.tight_layout()\n",
        "plt.show()"
      ],
      "execution_count": null,
      "outputs": [
        {
          "output_type": "display_data",
          "data": {
            "image/png": "[encoded data removed]",
            "text/plain": [
              "<Figure size 864x720 with 1 Axes>"
            ]
          },
          "metadata": {
            "tags": [],
            "needs_background": "light"
          }
        }
      ]
    },
    {
      "cell_type": "code",
      "metadata": {
        "id": "dYSiA_xIUaCZ"
      },
      "source": [
        "Xtest = test_df"
      ],
      "execution_count": null,
      "outputs": []
    },
    {
      "cell_type": "code",
      "metadata": {
        "id": "YDGR2HEbUe4T",
        "outputId": "26f349bd-9fdb-4ac0-891b-b035a3cd2ece",
        "colab": {
          "base_uri": "https://localhost:8080/",
          "height": 84
        }
      },
      "source": [
        "\n",
        "from sklearn.model_selection import KFold\n",
        "\n",
        "errgb = []\n",
        "y_pred_totgb = []\n",
        "\n",
        "fold = KFold(n_splits=4, shuffle=True, random_state=42)\n",
        "\n",
        "for train_index, test_index in fold.split(X):\n",
        "    X_train, X_test = X.loc[train_index], X.loc[test_index]\n",
        "    y_train, y_test = y[train_index], y[test_index]\n",
        "             \n",
        "    gb = GradientBoostingRegressor(learning_rate=0.10, n_estimators=1000, random_state=42, subsample=0.8)\n",
        "    #gb = GradientBoostingRegressor(learning_rate=0.1, n_estimators=650, random_state=42, subsample=0.8)\n",
        "    gb.fit(X_train, y_train)\n",
        "    y_pred = gb.predict(X_test)\n",
        "\n",
        "    print('MSE', sqrt(mean_squared_log_error(np.exp(y_test), np.exp(y_pred))))\n",
        "\n",
        "    errgb.append(sqrt(mean_squared_log_error(np.exp(y_test),np.exp(y_pred))))\n",
        "    p = gb.predict(Xtest)\n",
        "    y_pred_totgb.append(p)"
      ],
      "execution_count": null,
      "outputs": [
        {
          "output_type": "stream",
          "text": [
            "MSE 0.30381398335051063\n",
            "MSE 0.3238446525224199\n",
            "MSE 0.3026467317687959\n",
            "MSE 0.3138329748978811\n"
          ],
          "name": "stdout"
        }
      ]
    },
    {
      "cell_type": "code",
      "metadata": {
        "id": "1Bspy02tIJxD",
        "outputId": "506f1ce4-3d7a-433e-80b5-7745adfeee83",
        "colab": {
          "base_uri": "https://localhost:8080/",
          "height": 33
        }
      },
      "source": [
        "np.mean(errgb,0)"
      ],
      "execution_count": null,
      "outputs": [
        {
          "output_type": "execute_result",
          "data": {
            "text/plain": [
              "0.31103458563490194"
            ]
          },
          "metadata": {
            "tags": []
          },
          "execution_count": 45
        }
      ]
    },
    {
      "cell_type": "code",
      "metadata": {
        "id": "qVYQpy2isx9u",
        "outputId": "7a7ddf8f-6cb4-45df-d8cd-0f984c84aafa",
        "colab": {
          "base_uri": "https://localhost:8080/",
          "height": 50
        }
      },
      "source": [
        "gb_fib = np.expm1(np.mean(y_pred_totgb,0))\n",
        "gb_fib"
      ],
      "execution_count": null,
      "outputs": [
        {
          "output_type": "execute_result",
          "data": {
            "text/plain": [
              "array([  13.55556709,   78.69766039,   60.37362354, ..., 2120.18926625,\n",
              "         82.60514661,  660.61749059])"
            ]
          },
          "metadata": {
            "tags": []
          },
          "execution_count": 46
        }
      ]
    },
    {
      "cell_type": "code",
      "metadata": {
        "id": "Etr1lp2o-CsI"
      },
      "source": [
        ""
      ],
      "execution_count": null,
      "outputs": []
    },
    {
      "cell_type": "markdown",
      "metadata": {
        "id": "MUVfcQkr-Ef_"
      },
      "source": [
        "# cat"
      ]
    },
    {
      "cell_type": "code",
      "metadata": {
        "id": "QwSkAs1b-F7x",
        "outputId": "34ddc237-55de-48c4-b764-cdfbf111e9c0",
        "colab": {
          "base_uri": "https://localhost:8080/",
          "height": 319
        }
      },
      "source": [
        "!pip install catboost"
      ],
      "execution_count": null,
      "outputs": [
        {
          "output_type": "stream",
          "text": [
            "Collecting catboost\n",
            "\u001b[?25l  Downloading https://files.pythonhosted.org/packages/52/39/128fff65072c8327371e3c594f3c826d29c85b21cb6485980353b168e0e4/catboost-0.24.2-cp36-none-manylinux1_x86_64.whl (66.1MB)\n",
            "\u001b[K     |████████████████████████████████| 66.2MB 56kB/s \n",
            "\u001b[?25hRequirement already satisfied: pandas>=0.24.0 in /usr/local/lib/python3.6/dist-packages (from catboost) (1.1.2)\n",
            "Requirement already satisfied: numpy>=1.16.0 in /usr/local/lib/python3.6/dist-packages (from catboost) (1.18.5)\n",
            "Requirement already satisfied: six in /usr/local/lib/python3.6/dist-packages (from catboost) (1.15.0)\n",
            "Requirement already satisfied: plotly in /usr/local/lib/python3.6/dist-packages (from catboost) (4.4.1)\n",
            "Requirement already satisfied: matplotlib in /usr/local/lib/python3.6/dist-packages (from catboost) (3.2.2)\n",
            "Requirement already satisfied: scipy in /usr/local/lib/python3.6/dist-packages (from catboost) (1.4.1)\n",
            "Requirement already satisfied: graphviz in /usr/local/lib/python3.6/dist-packages (from catboost) (0.10.1)\n",
            "Requirement already satisfied: python-dateutil>=2.7.3 in /usr/local/lib/python3.6/dist-packages (from pandas>=0.24.0->catboost) (2.8.1)\n",
            "Requirement already satisfied: pytz>=2017.2 in /usr/local/lib/python3.6/dist-packages (from pandas>=0.24.0->catboost) (2018.9)\n",
            "Requirement already satisfied: retrying>=1.3.3 in /usr/local/lib/python3.6/dist-packages (from plotly->catboost) (1.3.3)\n",
            "Requirement already satisfied: kiwisolver>=1.0.1 in /usr/local/lib/python3.6/dist-packages (from matplotlib->catboost) (1.2.0)\n",
            "Requirement already satisfied: pyparsing!=2.0.4,!=2.1.2,!=2.1.6,>=2.0.1 in /usr/local/lib/python3.6/dist-packages (from matplotlib->catboost) (2.4.7)\n",
            "Requirement already satisfied: cycler>=0.10 in /usr/local/lib/python3.6/dist-packages (from matplotlib->catboost) (0.10.0)\n",
            "Installing collected packages: catboost\n",
            "Successfully installed catboost-0.24.2\n"
          ],
          "name": "stdout"
        }
      ]
    },
    {
      "cell_type": "code",
      "metadata": {
        "id": "gAvDMOPx-Iqt",
        "outputId": "e6cc0ef4-744b-40ad-cf8a-e239630fd1a4",
        "colab": {
          "base_uri": "https://localhost:8080/",
          "height": 1000
        }
      },
      "source": [
        "from catboost import CatBoostRegressor\n",
        "cat = CatBoostRegressor(verbose=100, #learning_rate=0.4, \n",
        "                        n_estimators=10000, random_state=42, subsample=0.9, task_type='GPU')\n",
        "cat.fit(X_train, y_train)\n",
        "y_pred = cat.predict(X_cv)\n",
        "print('RMSLE', sqrt(mean_squared_log_error(np.expm1(y_cv), np.expm1(y_pred))))"
      ],
      "execution_count": null,
      "outputs": [
        {
          "output_type": "stream",
          "text": [
            "Learning rate set to 0.019748\n",
            "0:\tlearn: 0.8803204\ttotal: 23.6ms\tremaining: 3m 55s\n",
            "100:\tlearn: 0.7432547\ttotal: 1.28s\tremaining: 2m 5s\n",
            "200:\tlearn: 0.6196330\ttotal: 2.51s\tremaining: 2m 2s\n",
            "300:\tlearn: 0.5433764\ttotal: 3.71s\tremaining: 1m 59s\n",
            "400:\tlearn: 0.4814142\ttotal: 4.97s\tremaining: 1m 58s\n",
            "500:\tlearn: 0.4478030\ttotal: 6.22s\tremaining: 1m 57s\n",
            "600:\tlearn: 0.4272384\ttotal: 7.49s\tremaining: 1m 57s\n",
            "700:\tlearn: 0.4147246\ttotal: 8.88s\tremaining: 1m 57s\n",
            "800:\tlearn: 0.4068137\ttotal: 10.2s\tremaining: 1m 57s\n",
            "900:\tlearn: 0.4015075\ttotal: 11.4s\tremaining: 1m 55s\n",
            "1000:\tlearn: 0.3950634\ttotal: 12.7s\tremaining: 1m 54s\n",
            "1100:\tlearn: 0.3904292\ttotal: 13.9s\tremaining: 1m 52s\n",
            "1200:\tlearn: 0.3868131\ttotal: 15.2s\tremaining: 1m 51s\n",
            "1300:\tlearn: 0.3823242\ttotal: 16.5s\tremaining: 1m 50s\n",
            "1400:\tlearn: 0.3787953\ttotal: 17.8s\tremaining: 1m 49s\n",
            "1500:\tlearn: 0.3765055\ttotal: 19.1s\tremaining: 1m 47s\n",
            "1600:\tlearn: 0.3734711\ttotal: 20.4s\tremaining: 1m 46s\n",
            "1700:\tlearn: 0.3707182\ttotal: 21.7s\tremaining: 1m 45s\n",
            "1800:\tlearn: 0.3682704\ttotal: 23s\tremaining: 1m 44s\n",
            "1900:\tlearn: 0.3666686\ttotal: 24.2s\tremaining: 1m 43s\n",
            "2000:\tlearn: 0.3651184\ttotal: 25.5s\tremaining: 1m 41s\n",
            "2100:\tlearn: 0.3634962\ttotal: 26.8s\tremaining: 1m 40s\n",
            "2200:\tlearn: 0.3620823\ttotal: 28.1s\tremaining: 1m 39s\n",
            "2300:\tlearn: 0.3610783\ttotal: 29.3s\tremaining: 1m 38s\n",
            "2400:\tlearn: 0.3597522\ttotal: 30.7s\tremaining: 1m 37s\n",
            "2500:\tlearn: 0.3584098\ttotal: 32s\tremaining: 1m 36s\n",
            "2600:\tlearn: 0.3575707\ttotal: 33.3s\tremaining: 1m 34s\n",
            "2700:\tlearn: 0.3568702\ttotal: 34.5s\tremaining: 1m 33s\n",
            "2800:\tlearn: 0.3559502\ttotal: 35.8s\tremaining: 1m 32s\n",
            "2900:\tlearn: 0.3550421\ttotal: 37.1s\tremaining: 1m 30s\n",
            "3000:\tlearn: 0.3545158\ttotal: 38.5s\tremaining: 1m 29s\n",
            "3100:\tlearn: 0.3540163\ttotal: 39.8s\tremaining: 1m 28s\n",
            "3200:\tlearn: 0.3535473\ttotal: 41s\tremaining: 1m 27s\n",
            "3300:\tlearn: 0.3531655\ttotal: 42.3s\tremaining: 1m 25s\n",
            "3400:\tlearn: 0.3528630\ttotal: 43.6s\tremaining: 1m 24s\n",
            "3500:\tlearn: 0.3526650\ttotal: 44.8s\tremaining: 1m 23s\n",
            "3600:\tlearn: 0.3524068\ttotal: 46s\tremaining: 1m 21s\n",
            "3700:\tlearn: 0.3523026\ttotal: 47.2s\tremaining: 1m 20s\n",
            "3800:\tlearn: 0.3522193\ttotal: 48.3s\tremaining: 1m 18s\n",
            "3900:\tlearn: 0.3520564\ttotal: 49.5s\tremaining: 1m 17s\n",
            "4000:\tlearn: 0.3517682\ttotal: 50.8s\tremaining: 1m 16s\n",
            "4100:\tlearn: 0.3514145\ttotal: 52.1s\tremaining: 1m 14s\n",
            "4200:\tlearn: 0.3511612\ttotal: 53.3s\tremaining: 1m 13s\n",
            "4300:\tlearn: 0.3508643\ttotal: 54.5s\tremaining: 1m 12s\n",
            "4400:\tlearn: 0.3506976\ttotal: 55.7s\tremaining: 1m 10s\n",
            "4500:\tlearn: 0.3505629\ttotal: 57s\tremaining: 1m 9s\n",
            "4600:\tlearn: 0.3499876\ttotal: 58.2s\tremaining: 1m 8s\n",
            "4700:\tlearn: 0.3496231\ttotal: 59.5s\tremaining: 1m 7s\n",
            "4800:\tlearn: 0.3494861\ttotal: 1m\tremaining: 1m 5s\n",
            "4900:\tlearn: 0.3490391\ttotal: 1m 1s\tremaining: 1m 4s\n",
            "5000:\tlearn: 0.3486088\ttotal: 1m 3s\tremaining: 1m 3s\n",
            "5100:\tlearn: 0.3482815\ttotal: 1m 4s\tremaining: 1m 1s\n",
            "5200:\tlearn: 0.3480345\ttotal: 1m 5s\tremaining: 1m\n",
            "5300:\tlearn: 0.3478191\ttotal: 1m 7s\tremaining: 59.4s\n",
            "5400:\tlearn: 0.3475853\ttotal: 1m 8s\tremaining: 58.1s\n",
            "5500:\tlearn: 0.3475499\ttotal: 1m 9s\tremaining: 56.7s\n",
            "5600:\tlearn: 0.3473292\ttotal: 1m 10s\tremaining: 55.4s\n",
            "5700:\tlearn: 0.3467744\ttotal: 1m 11s\tremaining: 54.2s\n",
            "5800:\tlearn: 0.3462469\ttotal: 1m 13s\tremaining: 53s\n",
            "5900:\tlearn: 0.3458292\ttotal: 1m 14s\tremaining: 51.7s\n",
            "6000:\tlearn: 0.3454646\ttotal: 1m 15s\tremaining: 50.5s\n",
            "6100:\tlearn: 0.3453058\ttotal: 1m 17s\tremaining: 49.3s\n",
            "6200:\tlearn: 0.3451900\ttotal: 1m 18s\tremaining: 48s\n",
            "6300:\tlearn: 0.3450717\ttotal: 1m 19s\tremaining: 46.7s\n",
            "6400:\tlearn: 0.3449358\ttotal: 1m 20s\tremaining: 45.4s\n",
            "6500:\tlearn: 0.3448962\ttotal: 1m 22s\tremaining: 44.1s\n",
            "6600:\tlearn: 0.3448173\ttotal: 1m 23s\tremaining: 42.9s\n",
            "6700:\tlearn: 0.3447485\ttotal: 1m 24s\tremaining: 41.6s\n",
            "6800:\tlearn: 0.3446774\ttotal: 1m 25s\tremaining: 40.3s\n",
            "6900:\tlearn: 0.3445633\ttotal: 1m 27s\tremaining: 39.1s\n",
            "7000:\tlearn: 0.3444823\ttotal: 1m 28s\tremaining: 37.8s\n",
            "7100:\tlearn: 0.3440831\ttotal: 1m 29s\tremaining: 36.5s\n",
            "7200:\tlearn: 0.3436754\ttotal: 1m 30s\tremaining: 35.3s\n",
            "7300:\tlearn: 0.3431089\ttotal: 1m 32s\tremaining: 34s\n",
            "7400:\tlearn: 0.3426053\ttotal: 1m 33s\tremaining: 32.8s\n",
            "7500:\tlearn: 0.3421903\ttotal: 1m 34s\tremaining: 31.5s\n",
            "7600:\tlearn: 0.3419287\ttotal: 1m 35s\tremaining: 30.3s\n",
            "7700:\tlearn: 0.3415512\ttotal: 1m 37s\tremaining: 29s\n",
            "7800:\tlearn: 0.3414284\ttotal: 1m 38s\tremaining: 27.8s\n",
            "7900:\tlearn: 0.3412099\ttotal: 1m 39s\tremaining: 26.5s\n",
            "8000:\tlearn: 0.3409804\ttotal: 1m 40s\tremaining: 25.2s\n",
            "8100:\tlearn: 0.3407717\ttotal: 1m 42s\tremaining: 24s\n",
            "8200:\tlearn: 0.3405745\ttotal: 1m 43s\tremaining: 22.7s\n",
            "8300:\tlearn: 0.3401916\ttotal: 1m 44s\tremaining: 21.4s\n",
            "8400:\tlearn: 0.3397413\ttotal: 1m 46s\tremaining: 20.2s\n",
            "8500:\tlearn: 0.3394366\ttotal: 1m 47s\tremaining: 18.9s\n",
            "8600:\tlearn: 0.3390729\ttotal: 1m 48s\tremaining: 17.7s\n",
            "8700:\tlearn: 0.3389469\ttotal: 1m 50s\tremaining: 16.4s\n",
            "8800:\tlearn: 0.3388454\ttotal: 1m 51s\tremaining: 15.2s\n",
            "8900:\tlearn: 0.3387454\ttotal: 1m 52s\tremaining: 13.9s\n",
            "9000:\tlearn: 0.3386807\ttotal: 1m 53s\tremaining: 12.6s\n",
            "9100:\tlearn: 0.3385302\ttotal: 1m 55s\tremaining: 11.4s\n",
            "9200:\tlearn: 0.3383495\ttotal: 1m 56s\tremaining: 10.1s\n",
            "9300:\tlearn: 0.3382782\ttotal: 1m 57s\tremaining: 8.85s\n",
            "9400:\tlearn: 0.3381894\ttotal: 1m 58s\tremaining: 7.58s\n",
            "9500:\tlearn: 0.3381686\ttotal: 2m\tremaining: 6.31s\n",
            "9600:\tlearn: 0.3380591\ttotal: 2m 1s\tremaining: 5.05s\n",
            "9700:\tlearn: 0.3379385\ttotal: 2m 2s\tremaining: 3.78s\n",
            "9800:\tlearn: 0.3376283\ttotal: 2m 3s\tremaining: 2.52s\n",
            "9900:\tlearn: 0.3374931\ttotal: 2m 5s\tremaining: 1.25s\n",
            "9999:\tlearn: 0.3373539\ttotal: 2m 6s\tremaining: 0us\n",
            "RMSLE 0.3563983330378284\n"
          ],
          "name": "stdout"
        }
      ]
    },
    {
      "cell_type": "code",
      "metadata": {
        "id": "f028Dp5V-QyM",
        "outputId": "289ef83d-4a13-41bb-bd9b-a8bb30615546",
        "colab": {
          "base_uri": "https://localhost:8080/",
          "height": 728
        }
      },
      "source": [
        "import seaborn as sns\n",
        "feature_imp = pd.DataFrame(sorted(zip(cat.feature_importances_, X.columns), reverse=True)[:60], columns=['Value','Feature'])\n",
        "plt.figure(figsize=(12,10))\n",
        "sns.barplot(x=\"Value\", y=\"Feature\", data=feature_imp.sort_values(by=\"Value\", ascending=False))\n",
        "plt.title('Gradient Boosting Features')\n",
        "plt.tight_layout()\n",
        "plt.show()"
      ],
      "execution_count": null,
      "outputs": [
        {
          "output_type": "display_data",
          "data": {
            "image/png": "[encoded data removed]",
            "text/plain": [
              "<Figure size 864x720 with 1 Axes>"
            ]
          },
          "metadata": {
            "tags": [],
            "needs_background": "light"
          }
        }
      ]
    },
    {
      "cell_type": "code",
      "metadata": {
        "id": "cg0wr1JbXUCZ"
      },
      "source": [
        "Xtest=test_df"
      ],
      "execution_count": null,
      "outputs": []
    },
    {
      "cell_type": "code",
      "metadata": {
        "id": "KFGSg5uu-5Hw",
        "outputId": "a9e31632-237f-486d-b342-c212dd5aeacb",
        "colab": {
          "base_uri": "https://localhost:8080/",
          "height": 184
        }
      },
      "source": [
        "from xgboost import XGBRegressor\n",
        "from sklearn.model_selection import KFold\n",
        "\n",
        "errxgb = []\n",
        "y_pred_totxgb = []\n",
        "\n",
        "fold = KFold(n_splits=10, shuffle=True, random_state=42)\n",
        "\n",
        "for train_index, test_index in fold.split(X):\n",
        "    X_train, X_test = X.loc[train_index], X.loc[test_index]\n",
        "    y_train, y_test = y[train_index], y[test_index]\n",
        "    \n",
        "    #xgb = XGBRegressor(random_state=101)\n",
        "    xgb=XGBRegressor(random_state=42, n_jobs=-1, objective='reg:squarederror', max_depth=9, n_estimators=1000,tree_method='gpu_hist')# )\n",
        "    xgb.fit(X_train, y_train)\n",
        "\n",
        "    y_pred_xgb = xgb.predict(X_test)\n",
        "    print(\"RMSLE: \", sqrt(mean_squared_log_error(np.exp(y_test), np.exp(y_pred_xgb))))\n",
        "\n",
        "    errxgb.append(sqrt(mean_squared_log_error(np.exp(y_test), np.exp(y_pred_xgb))))\n",
        "    p = xgb.predict(Xtest)\n",
        "\n",
        "    y_pred_totxgb.append(p)"
      ],
      "execution_count": null,
      "outputs": [
        {
          "output_type": "stream",
          "text": [
            "RMSLE:  0.2841847887300769\n",
            "RMSLE:  0.2887520500270837\n",
            "RMSLE:  0.31860657989649716\n",
            "RMSLE:  0.2859560267016793\n",
            "RMSLE:  0.2905157635787913\n",
            "RMSLE:  0.29403413830825825\n",
            "RMSLE:  0.27470390996101557\n",
            "RMSLE:  0.27980853675573264\n",
            "RMSLE:  0.29950485124499404\n",
            "RMSLE:  0.31402208473432686\n"
          ],
          "name": "stdout"
        }
      ]
    },
    {
      "cell_type": "code",
      "metadata": {
        "id": "8ocVuLrlvlp_",
        "outputId": "f95cfdca-f2fd-4b47-8300-216fb6ae55a5",
        "colab": {
          "base_uri": "https://localhost:8080/",
          "height": 33
        }
      },
      "source": [
        "np.mean(errxgb,0)"
      ],
      "execution_count": null,
      "outputs": [
        {
          "output_type": "execute_result",
          "data": {
            "text/plain": [
              "0.2930088729938456"
            ]
          },
          "metadata": {
            "tags": []
          },
          "execution_count": 57
        }
      ]
    },
    {
      "cell_type": "code",
      "metadata": {
        "id": "dNBh3lzrvsyk",
        "outputId": "1b235ec7-2e10-4805-aff7-c558f94e8452",
        "colab": {
          "base_uri": "https://localhost:8080/",
          "height": 50
        }
      },
      "source": [
        "final1 = np.expm1(np.mean(y_pred_totxgb,0))\n",
        "final1"
      ],
      "execution_count": null,
      "outputs": [
        {
          "output_type": "execute_result",
          "data": {
            "text/plain": [
              "array([  11.557772,   82.26081 ,   72.21388 , ..., 9288.15    ,\n",
              "         90.374725,  671.2682  ], dtype=float32)"
            ]
          },
          "metadata": {
            "tags": []
          },
          "execution_count": 58
        }
      ]
    },
    {
      "cell_type": "code",
      "metadata": {
        "id": "_4tZWkUPBImu",
        "outputId": "3d9b7ddf-04a1-4677-c3a7-c00573878f1e",
        "colab": {
          "base_uri": "https://localhost:8080/",
          "height": 252
        }
      },
      "source": [
        "submission = pd.DataFrame({\n",
        "        \"TARGET(PRICE_IN_LACS)\":final1\n",
        "    })\n",
        "submission.to_csv('./styl0e.csv', index=False)\n",
        "print(submission)"
      ],
      "execution_count": null,
      "outputs": [
        {
          "output_type": "stream",
          "text": [
            "       TARGET(PRICE_IN_LACS)\n",
            "0                  11.557772\n",
            "1                  82.260811\n",
            "2                  72.213882\n",
            "3                  27.553165\n",
            "4                  15.237292\n",
            "...                      ...\n",
            "68715             119.570702\n",
            "68716             122.453384\n",
            "68717            9288.150391\n",
            "68718              90.374725\n",
            "68719             671.268188\n",
            "\n",
            "[68720 rows x 1 columns]\n"
          ],
          "name": "stdout"
        }
      ]
    },
    {
      "cell_type": "code",
      "metadata": {
        "id": "_hDKTOjHBWeW"
      },
      "source": [
        ""
      ],
      "execution_count": null,
      "outputs": []
    }
  ]
}